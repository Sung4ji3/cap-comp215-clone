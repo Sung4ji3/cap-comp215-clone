{
  "cells": [
    {
      "cell_type": "markdown",
      "metadata": {
        "id": "view-in-github",
        "colab_type": "text"
      },
      "source": [
        "<a href=\"https://colab.research.google.com/github/Sung4ji3/cap-comp215-clone/blob/main/midterm_practice_ipynb_txt.ipynb\" target=\"_parent\"><img src=\"https://colab.research.google.com/assets/colab-badge.svg\" alt=\"Open In Colab\"/></a>"
      ]
    },
    {
      "cell_type": "markdown",
      "source": [
        "# COMP215 Mid-term Practice Questions   Spring 2024\n",
        "\n",
        "Some additional practice questions for the mid-term exam.\n",
        "\n",
        "NOTE: these questions are similar in format to the mid-term exam, but the questions on the exam will not be exactly like these and may cover topics not covered by these practice questions.  I.e., this is not the only thing you need to study!"
      ],
      "metadata": {
        "collapsed": false,
        "id": "1mYNl-SHT7gB"
      }
    },
    {
      "cell_type": "markdown",
      "source": [
        "### Topics:\n",
        " - Data structures:  list, dictionary, class, graph, 1D array\n",
        " - Algorithms: graph traversal, matrix operators (numpy), sliding dot-product (correlation)\n",
        " - Techniques: list comprehension, generators, random numbers, plotting\n",
        " - Concepts: Counting, Big-O analysis of algorithm time complexity\n",
        "\n",
        "As usual, we start with module imports..."
      ],
      "metadata": {
        "collapsed": false,
        "id": "FRR2RXXAT7gK"
      }
    },
    {
      "cell_type": "code",
      "execution_count": null,
      "metadata": {
        "collapsed": true,
        "ExecuteTime": {
          "end_time": "2024-03-05T04:21:01.253592Z",
          "start_time": "2024-03-05T04:21:00.282308Z"
        },
        "id": "BxzuA5aaT7gM"
      },
      "outputs": [],
      "source": [
        "import itertools\n",
        "from dataclasses import dataclass\n",
        "import matplotlib.pyplot as plt\n",
        "import networkx as nx\n",
        "import numpy as np\n",
        "import random\n",
        "from collections import defaultdict"
      ]
    },
    {
      "cell_type": "markdown",
      "source": [
        "## Structured Data\n",
        "The `close_approaches` data below was fetched from Nasa's [Near Earth Objects](https://cneos.jpl.nasa.gov/)\n",
        "API.\n",
        "\n",
        "It is a (partial) list of information about times that a particular NEO has made a close approach to some planet."
      ],
      "metadata": {
        "collapsed": false,
        "id": "uvYA_a5fT7gQ"
      }
    },
    {
      "cell_type": "code",
      "execution_count": null,
      "outputs": [],
      "source": [
        "close_approaches = [\n",
        " {'close_approach_date': '1900-10-30',\n",
        "  'close_approach_date_full': '1900-Oct-30 21:15',\n",
        "  'epoch_date_close_approach': -2182819500000,\n",
        "  'miss_distance': {'astronomical': '0.4183489295',\n",
        "                    'kilometers': '62584108.769980165',\n",
        "                    'lunar': '162.7377335755',\n",
        "                    'miles': '38887961.930909677'},\n",
        "  'orbiting_body': 'Earth',\n",
        "  'relative_velocity': {'kilometers_per_hour': '30027.9641223136',\n",
        "                        'kilometers_per_second': '8.3411011451',\n",
        "                        'miles_per_hour': '18658.2091514453'}\n",
        " },\n",
        " {'close_approach_date': '1901-06-26',\n",
        "  'close_approach_date_full': '1901-Jun-26 20:27',\n",
        "  'epoch_date_close_approach': -2162172780000,\n",
        "  'miss_distance': {'astronomical': '0.0308795665',\n",
        "                    'kilometers': '4619517.374923355',\n",
        "                    'lunar': '12.0121513685',\n",
        "                    'miles': '2870434.992938099'},\n",
        "  'orbiting_body': 'Earth',\n",
        "  'relative_velocity': {'kilometers_per_hour': '33429.0066078308',\n",
        "                        'kilometers_per_second': '9.2858351688',\n",
        "                        'miles_per_hour': '20771.4846891824'}\n",
        " },\n",
        " {'close_approach_date': '1907-01-08',\n",
        "  'close_approach_date_full': '1907-Jan-08 04:37',\n",
        "  'epoch_date_close_approach': -1987528980000,\n",
        "  'miss_distance': {'astronomical': '0.1240285628',\n",
        "                    'kilometers': '18554408.814041236',\n",
        "                    'lunar': '48.2471109292',\n",
        "                    'miles': '11529175.0220956168'},\n",
        "  'orbiting_body': 'Venus',\n",
        "  'relative_velocity': {'kilometers_per_hour': '24041.8395567329',\n",
        "                        'kilometers_per_second': '6.6782887658',\n",
        "                        'miles_per_hour': '14938.6641401266'}\n",
        " },\n",
        " {'close_approach_date': '1907-09-06',\n",
        "  'close_approach_date_full': '1907-Sep-06 10:51',\n",
        "  'epoch_date_close_approach': -1966684140000,\n",
        "  'miss_distance': {'astronomical': '0.4147265741',\n",
        "                    'kilometers': '62042212.117757167',\n",
        "                    'lunar': '161.3286373249',\n",
        "                    'miles': '38551242.9650842246'},\n",
        "  'orbiting_body': 'Earth',\n",
        "  'relative_velocity': {'kilometers_per_hour': '26520.1894310292',\n",
        "                        'kilometers_per_second': '7.3667192864',\n",
        "                        'miles_per_hour': '16478.6143717415'}\n",
        " },\n",
        " {'close_approach_date': '1909-08-06',\n",
        "  'close_approach_date_full': '1909-Aug-06 06:41',\n",
        "  'epoch_date_close_approach': -1906219140000,\n",
        "  'miss_distance': {'astronomical': '0.1317215629',\n",
        "                    'kilometers': '19705265.242911023',\n",
        "                    'lunar': '51.2396879681',\n",
        "                    'miles': '12244284.0469491974'},\n",
        "  'orbiting_body': 'Venus',\n",
        "  'relative_velocity': {'kilometers_per_hour': '7812.3369916648',\n",
        "                        'kilometers_per_second': '2.1700936088',\n",
        "                        'miles_per_hour': '4854.2823935153'}\n",
        " },\n",
        "]"
      ],
      "metadata": {
        "pycharm": {
          "name": "#%%\n"
        },
        "ExecuteTime": {
          "end_time": "2024-03-05T04:21:01.270474Z",
          "start_time": "2024-03-05T04:21:01.252973Z"
        },
        "id": "qAQjsWlNT7gR"
      }
    },
    {
      "cell_type": "markdown",
      "source": [
        "### Q.1  (2 points)\n",
        "Use a **list comprehension** to define a list of close approach dates that came within 10M km of the planet.\n",
        "*Hint*: there is just 1 such approach in the list above."
      ],
      "metadata": {
        "collapsed": false,
        "id": "Af6gzTy1T7gV"
      }
    },
    {
      "cell_type": "code",
      "execution_count": null,
      "outputs": [
        {
          "data": {
            "text/plain": "['Kepler-152 b',\n 'Kepler-122 f',\n 'Kepler-413 b',\n 'Kepler-120 b',\n 'Kepler-173 b',\n 'Kepler-262 b',\n 'Kepler-116 b',\n 'Kepler-342 c',\n 'Kepler-178 d',\n 'Kepler-300 c',\n 'Kepler-285 c',\n 'Kepler-84 d',\n 'Kepler-151 c',\n 'Kepler-326 d',\n 'Kepler-334 b',\n 'Kepler-401 c']"
          },
          "execution_count": 15,
          "metadata": {},
          "output_type": "execute_result"
        }
      ],
      "source": [
        "# Solution for Q.1 here"
      ],
      "metadata": {
        "pycharm": {
          "name": "#%%\n"
        },
        "ExecuteTime": {
          "end_time": "2024-03-05T04:21:52.094985Z",
          "start_time": "2024-03-05T04:21:52.088064Z"
        },
        "id": "lgL1PBGpT7gW",
        "outputId": "4fe034fe-22b0-415e-c35d-e726d4d08d81"
      }
    },
    {
      "cell_type": "markdown",
      "source": [
        "### Q.2  (3 points)\n",
        "Develop a `dict` with a count of the number of close approaches for each `orbiting_body`.\n",
        "There are *many* different ways to approach this - for full points solution should be concise and easy to understand.\n",
        "\n",
        "*Tip*: the built-in [defaultdict(int)](https://docs.python.org/3/library/collections.html#collections.defaultdict) could help here."
      ],
      "metadata": {
        "collapsed": false,
        "id": "UriIXK4DT7gZ"
      }
    },
    {
      "cell_type": "code",
      "execution_count": null,
      "outputs": [],
      "source": [
        "# Solution  for Q.2 here"
      ],
      "metadata": {
        "pycharm": {
          "name": "#%%\n"
        },
        "ExecuteTime": {
          "end_time": "2024-03-05T04:21:01.314020Z",
          "start_time": "2024-03-05T04:21:01.274409Z"
        },
        "id": "JepBnxvVT7ga"
      }
    },
    {
      "cell_type": "markdown",
      "source": [
        "### Q.3  (3 points)\n",
        "Plot your approaches-by-planet data as a [matplotlib.pyplot.bar](https://matplotlib.org/stable/api/_as_gen/matplotlib.pyplot.bar.html) chart.\n",
        "(no need to label axes or add a chart title)\n",
        "*Hint*:  your dictionary has `.keys()` and  `.values()`."
      ],
      "metadata": {
        "collapsed": false,
        "pycharm": {
          "name": "#%% md\n"
        },
        "id": "ZM0TBTHbT7gc"
      }
    },
    {
      "cell_type": "code",
      "execution_count": null,
      "outputs": [],
      "source": [
        "# Solution for Q.3 here"
      ],
      "metadata": {
        "pycharm": {
          "name": "#%%\n"
        },
        "ExecuteTime": {
          "end_time": "2024-03-05T04:21:01.314281Z",
          "start_time": "2024-03-05T04:21:01.277500Z"
        },
        "id": "2Ys0A9-rT7gc"
      }
    },
    {
      "cell_type": "markdown",
      "source": [
        "## Classes\n",
        "Develop a small class to represent a single `CloseApproach` object, with its date, orbiting body, and miss distance in km.\n",
        "You may use `@dataclass` or a regular class, as you wish.\n",
        "\n",
        "Your class should define at least 2 methods:\n",
        "```\n",
        "  def __str__(self) : return a nicely formatted string with the approach date and orbiting body\n",
        "\n",
        "  def has_same_planet(self, other) : return True iff this approach and the other were for the same `orbiting_body`\n",
        "```\n",
        "\n",
        "### Q.4   (5 points)\n",
        "Write your class below and include some code to test it and both its methods."
      ],
      "metadata": {
        "collapsed": false,
        "id": "iaxPlenjT7ge"
      }
    },
    {
      "cell_type": "code",
      "execution_count": null,
      "outputs": [],
      "source": [
        "# Solution for Q. 4 here"
      ],
      "metadata": {
        "pycharm": {
          "name": "#%%\n"
        },
        "ExecuteTime": {
          "end_time": "2024-03-05T04:21:01.314510Z",
          "start_time": "2024-03-05T04:21:01.279371Z"
        },
        "id": "w-jyItlFT7ge"
      }
    },
    {
      "cell_type": "markdown",
      "source": [
        "## 1D Sliding Dot-product (correlation)\n",
        "The array below represents the size (in sq. m) of each house along a given street.\n",
        "In the questions below, we are trying to understand how each house compares to its next-door neighbours."
      ],
      "metadata": {
        "collapsed": false,
        "id": "Y2SbN6-hT7gf"
      }
    },
    {
      "cell_type": "code",
      "execution_count": null,
      "outputs": [],
      "source": [
        "house_sizes = np.array( [251, 110, 92, 189, 215, 142, 126, 268, 243, 194] )\n",
        "wrapped_sizes = np.pad(house_sizes, 1, mode='wrap')"
      ],
      "metadata": {
        "pycharm": {
          "name": "#%%\n"
        },
        "ExecuteTime": {
          "end_time": "2024-03-05T04:21:01.314755Z",
          "start_time": "2024-03-05T04:21:01.281584Z"
        },
        "id": "84AzKqZAT7gg"
      }
    },
    {
      "cell_type": "markdown",
      "source": [
        "### Q.5  (3 points)\n",
        "Compute the average size of each house's 2 next-door neighbours using `np.correlate` [https://numpy.org/doc/stable/reference/generated/numpy.correlate.html](https://numpy.org/doc/stable/reference/generated/numpy.correlate.html)\n",
        "To avoid edge effects, we assume the last house is next-door to first house (a circular block)\n",
        "  `wrapped_sizes` shows how to use `numpy.pad` to do this [https://numpy.org/devdocs/reference/generated/numpy.pad.html](https://numpy.org/devdocs/reference/generated/numpy.pad.html)"
      ],
      "metadata": {
        "collapsed": false,
        "id": "CSLDDcTET7gh"
      }
    },
    {
      "cell_type": "code",
      "execution_count": null,
      "outputs": [],
      "source": [
        "# Solution for Q.5 here"
      ],
      "metadata": {
        "pycharm": {
          "name": "#%%\n"
        },
        "ExecuteTime": {
          "end_time": "2024-03-05T04:21:01.314991Z",
          "start_time": "2024-03-05T04:21:01.283359Z"
        },
        "id": "gj_SSmYQT7gh"
      }
    },
    {
      "cell_type": "markdown",
      "source": [
        "### Q.6  (2 points)\n",
        "Compute the \"variance\" (difference) between each house's size and the average of it's neighbours.\n",
        "For full points, you must do this using a vector operation rather than a loop or comprehension.\n",
        "*Hint*: As a check on your work, the sum of all variances should be zero."
      ],
      "metadata": {
        "collapsed": false,
        "id": "1W0FRJMPT7gi"
      }
    },
    {
      "cell_type": "code",
      "execution_count": null,
      "outputs": [],
      "source": [
        "# Solution for Q.6 here"
      ],
      "metadata": {
        "pycharm": {
          "name": "#%%\n"
        },
        "ExecuteTime": {
          "end_time": "2024-03-05T04:21:01.315220Z",
          "start_time": "2024-03-05T04:21:01.285273Z"
        },
        "id": "tq1Ct_guT7gj"
      }
    },
    {
      "cell_type": "markdown",
      "source": [
        "## Graph Connectivity\n",
        "Assume you have been tasked with writing an algorithm to determine if an undirected graph is connected:\n",
        "```\n",
        "   def is_connected(graph)\n",
        "```\n",
        "with this in mind, answer the following questions (*you need not actually write this function, its just for context*)..."
      ],
      "metadata": {
        "collapsed": false,
        "id": "vK0IjB3kT7gk"
      }
    },
    {
      "cell_type": "markdown",
      "source": [
        "### Q.7  (2 points)\n",
        " i) What is the smallest number of edges a connected undirected graph with $N$ nodes could have?\n",
        " ii) What is the largest number of edges a simple undirected graph with $N$ nodes could have? (no edges from a node to itself)"
      ],
      "metadata": {
        "collapsed": false,
        "id": "kimB72L2T7gk"
      }
    },
    {
      "cell_type": "markdown",
      "source": [
        "Q.7 answer:"
      ],
      "metadata": {
        "collapsed": false,
        "pycharm": {
          "name": "#%% md\n"
        },
        "id": "Mrs1lYohT7gl"
      }
    },
    {
      "cell_type": "markdown",
      "source": [
        "### Q.8  (2 points)\n",
        "\n",
        "Give an undirected graph with $N$ nodes and $M$ edges...\n",
        "(i) what is the best-case time complexity for the `is_connected` algorithm?\n",
        "(ii) what is the worst-case time complexity of the `is_connected` algorithm?\n",
        "\n",
        "Choices:\n",
        " * $O(N)$\n",
        " * $O(M)$\n",
        " * $O(N + M)$\n",
        " * $O(N * M)$\n",
        " * $O(N^2)$\n",
        " * $O(2^N)$"
      ],
      "metadata": {
        "collapsed": false,
        "pycharm": {
          "name": "#%% md\n"
        },
        "id": "rgHuC2_kT7gm"
      }
    },
    {
      "cell_type": "markdown",
      "source": [
        "Q.8 answer:"
      ],
      "metadata": {
        "collapsed": false,
        "pycharm": {
          "name": "#%% md\n"
        },
        "id": "g0aohTHnT7gm"
      }
    },
    {
      "cell_type": "markdown",
      "source": [
        "## Iterable types\n",
        "\n",
        "The code fragment below defines a list, a tuple and a generator, all containing the same sequence of values..."
      ],
      "metadata": {
        "collapsed": false,
        "pycharm": {
          "name": "#%% md\n"
        },
        "id": "tq-vAtvfT7gn"
      }
    },
    {
      "cell_type": "code",
      "execution_count": null,
      "outputs": [
        {
          "data": {
            "text/plain": "(list, tuple, generator)"
          },
          "execution_count": 10,
          "metadata": {},
          "output_type": "execute_result"
        }
      ],
      "source": [
        "l = [(i-1, i, i+1) for i in range(10)]\n",
        "t = tuple((i-1, i, i+1) for i in range(10))\n",
        "g = ((i-1, i, i+1) for i in range(10))\n",
        "\n",
        "type(l), type(t), type(g)"
      ],
      "metadata": {
        "pycharm": {
          "name": "#%%\n"
        },
        "ExecuteTime": {
          "end_time": "2024-03-05T04:21:01.315700Z",
          "start_time": "2024-03-05T04:21:01.288710Z"
        },
        "id": "Iwvgqcz2T7gn",
        "outputId": "fcec5659-143b-4384-e651-2a4aa90de1f4"
      }
    },
    {
      "cell_type": "markdown",
      "source": [
        "### Q.9   (3 points)\n",
        "Write a small piece of code that clearly demonstrates the principle difference(s) between these 3 iterable objects."
      ],
      "metadata": {
        "collapsed": false,
        "pycharm": {
          "name": "#%% md\n"
        },
        "id": "QVTnnxR8T7gp"
      }
    },
    {
      "cell_type": "code",
      "execution_count": null,
      "outputs": [],
      "source": [
        "# Solution for Q.9 here"
      ],
      "metadata": {
        "pycharm": {
          "name": "#%%\n"
        },
        "ExecuteTime": {
          "end_time": "2024-03-05T04:21:01.315931Z",
          "start_time": "2024-03-05T04:21:01.291242Z"
        },
        "id": "2MEc_P_YT7gp"
      }
    }
  ],
  "metadata": {
    "kernelspec": {
      "display_name": "Python 3",
      "language": "python",
      "name": "python3"
    },
    "language_info": {
      "codemirror_mode": {
        "name": "ipython",
        "version": 2
      },
      "file_extension": ".py",
      "mimetype": "text/x-python",
      "name": "python",
      "nbconvert_exporter": "python",
      "pygments_lexer": "ipython2",
      "version": "2.7.6"
    },
    "colab": {
      "provenance": [],
      "include_colab_link": true
    }
  },
  "nbformat": 4,
  "nbformat_minor": 0
}